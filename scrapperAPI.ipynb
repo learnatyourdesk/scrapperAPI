{
 "cells": [
  {
   "cell_type": "markdown",
   "id": "817d0a95",
   "metadata": {},
   "source": [
    "## https://www.scraperapi.com/ \n",
    "## Example 1"
   ]
  },
  {
   "cell_type": "code",
   "execution_count": 5,
   "id": "6ef1610d",
   "metadata": {},
   "outputs": [],
   "source": [
    "## Ensure below libraries are install before you proceed\n",
    "# pip install BeautifulSoup4\n",
    "# pip install html5lib\n",
    "# pip install scraperapi-sdk\n",
    "\n",
    "from scraper_api import ScraperAPIClient\n",
    "from bs4 import BeautifulSoup"
   ]
  },
  {
   "cell_type": "code",
   "execution_count": 14,
   "id": "fc6ac5a6",
   "metadata": {},
   "outputs": [],
   "source": [
    "client = ScraperAPIClient('77a7c9b12502b8f56f1cc0d112e779de')\n",
    "result1 = client.get(url = 'https://finance.yahoo.com/quote/ASIANPAINT.NS/')"
   ]
  },
  {
   "cell_type": "code",
   "execution_count": 15,
   "id": "7ccf1838",
   "metadata": {},
   "outputs": [],
   "source": [
    "soup = BeautifulSoup(result1.content, 'html5lib')\n",
    "data = soup.find_all('fin-streamer', attrs={'class' : 'Fw(b) Fz(36px) Mb(-4px) D(ib)'})"
   ]
  },
  {
   "cell_type": "code",
   "execution_count": 16,
   "id": "96f54dc6",
   "metadata": {},
   "outputs": [
    {
     "data": {
      "text/plain": [
       "[<fin-streamer active=\"\" class=\"Fw(b) Fz(36px) Mb(-4px) D(ib)\" data-field=\"regularMarketPrice\" data-pricehint=\"2\" data-reactid=\"30\" data-symbol=\"SBIN.NS\" data-test=\"qsp-price\" data-trend=\"none\" value=\"492.4\">492.40</fin-streamer>]"
      ]
     },
     "execution_count": 16,
     "metadata": {},
     "output_type": "execute_result"
    }
   ],
   "source": [
    "data"
   ]
  },
  {
   "cell_type": "code",
   "execution_count": 17,
   "id": "6b940746",
   "metadata": {},
   "outputs": [
    {
     "data": {
      "text/plain": [
       "bs4.element.Tag"
      ]
     },
     "execution_count": 17,
     "metadata": {},
     "output_type": "execute_result"
    }
   ],
   "source": [
    "type(data[0])"
   ]
  },
  {
   "cell_type": "code",
   "execution_count": 18,
   "id": "599dafe7",
   "metadata": {},
   "outputs": [
    {
     "name": "stdout",
     "output_type": "stream",
     "text": [
      "492.40\n"
     ]
    }
   ],
   "source": [
    "for z in data[0]:\n",
    "    print(z)"
   ]
  },
  {
   "cell_type": "markdown",
   "id": "ed067d8a",
   "metadata": {},
   "source": [
    "## Example 2"
   ]
  },
  {
   "cell_type": "code",
   "execution_count": 23,
   "id": "89444a88",
   "metadata": {},
   "outputs": [],
   "source": [
    "## Ensure below library is installed\n",
    "# pip insrtall requests\n",
    "\n",
    "import requests\n",
    "payload = {'api_key': '77a7c9b12502b8f56f1cc0d112e779de', 'url': 'https://finance.yahoo.com/quote/ASIANPAINT.NS/'}\n",
    "result2 = requests.get('http://api.scraperapi.com', params=payload)"
   ]
  },
  {
   "cell_type": "code",
   "execution_count": 24,
   "id": "975af484",
   "metadata": {},
   "outputs": [],
   "source": [
    "soup = BeautifulSoup(result.content, 'html5lib')\n",
    "data = soup.find_all('fin-streamer', attrs={'class' : 'Fw(b) Fz(36px) Mb(-4px) D(ib)'})"
   ]
  },
  {
   "cell_type": "code",
   "execution_count": 25,
   "id": "b01af9eb",
   "metadata": {},
   "outputs": [
    {
     "data": {
      "text/plain": [
       "[<fin-streamer active=\"\" class=\"Fw(b) Fz(36px) Mb(-4px) D(ib)\" data-field=\"regularMarketPrice\" data-pricehint=\"2\" data-reactid=\"30\" data-symbol=\"SBIN.NS\" data-test=\"qsp-price\" data-trend=\"none\" value=\"492.4\">492.40</fin-streamer>]"
      ]
     },
     "execution_count": 25,
     "metadata": {},
     "output_type": "execute_result"
    }
   ],
   "source": [
    "data"
   ]
  },
  {
   "cell_type": "code",
   "execution_count": 26,
   "id": "afa7ae0f",
   "metadata": {},
   "outputs": [
    {
     "name": "stdout",
     "output_type": "stream",
     "text": [
      "492.40\n"
     ]
    }
   ],
   "source": [
    "for z in data[0]:\n",
    "    print(z)"
   ]
  },
  {
   "cell_type": "code",
   "execution_count": null,
   "id": "c7c5d855",
   "metadata": {},
   "outputs": [],
   "source": []
  },
  {
   "cell_type": "code",
   "execution_count": null,
   "id": "8d054e89",
   "metadata": {},
   "outputs": [],
   "source": []
  }
 ],
 "metadata": {
  "kernelspec": {
   "display_name": "Python 3 (ipykernel)",
   "language": "python",
   "name": "python3"
  },
  "language_info": {
   "codemirror_mode": {
    "name": "ipython",
    "version": 3
   },
   "file_extension": ".py",
   "mimetype": "text/x-python",
   "name": "python",
   "nbconvert_exporter": "python",
   "pygments_lexer": "ipython3",
   "version": "3.10.0"
  }
 },
 "nbformat": 4,
 "nbformat_minor": 5
}
